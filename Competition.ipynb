{
  "cells": [
    {
      "cell_type": "code",
      "metadata": {
        "id": "3mNgipIs2cq3",
        "colab_type": "code",
        "outputId": "6b5dca4a-f698-42d9-c140-9ac52e8f6a3d",
        "colab": {
          "base_uri": "https://localhost:8080/",
          "height": 34
        }
      },
      "source": [
        "import tensorflow as tf\n",
        "import numpy as np\n",
        "import matplotlib.pyplot as plt\n",
        "from tensorflow.python.keras import backend as K\n",
        "from tensorflow.python.keras.models import Model, Sequential\n",
        "from tensorflow.python.keras.layers import Dense, Flatten, Dropout, GlobalAveragePooling2D\n",
        "from tensorflow.python.keras.applications.resnet import ResNet50\n",
        "from tensorflow.python.keras.applications.resnet import preprocess_input, decode_predictions\n",
        "from tensorflow.python.keras.preprocessing.image import ImageDataGenerator\n",
        "from tensorflow.python.keras.optimizers import Adam, RMSprop, SGD\n",
        "from tensorflow.python.framework.ops import disable_eager_execution\n",
        "from tensorflow.python.keras.preprocessing.image import ImageDataGenerator\n",
        "from sklearn.model_selection import train_test_split\n",
        "\n",
        "disable_eager_execution()\n",
        "\n",
        "tf.__version__"
      ],
      "execution_count": 0,
      "outputs": [
        {
          "output_type": "execute_result",
          "data": {
            "text/plain": [
              "'1.15.0'"
            ]
          },
          "metadata": {
            "tags": []
          },
          "execution_count": 10
        }
      ]
    },
    {
      "cell_type": "code",
      "metadata": {
        "id": "p1O4wjwp6T6C",
        "colab_type": "code",
        "colab": {}
      },
      "source": [
        "import torch\n",
        "torch.cuda.current_device()\n",
        "!ln -sf /opt/bin/nvidia-smi /usr/bin/nvidia-smi\n",
        "!pip install gputil\n",
        "!pip install psutil\n",
        "!pip install humanize\n",
        "import psutil\n",
        "import humanize\n",
        "import os\n",
        "import GPUtil as GPU\n",
        "GPUs = GPU.getGPUs()\n",
        "# XXX: only one GPU on Colab and isn’t guaranteed\n",
        "gpu = GPUs[0]\n",
        "def printm():\n",
        " process = psutil.Process(os.getpid())\n",
        " print(\"Gen RAM Free: \" + humanize.naturalsize( psutil.virtual_memory().available ), \" | Proc size: \" + humanize.naturalsize( process.memory_info().rss))\n",
        " print(\"GPU RAM Free: {0:.0f}MB | Used: {1:.0f}MB | Util {2:3.0f}% | Total {3:.0f}MB\".format(gpu.memoryFree, gpu.memoryUsed, gpu.memoryUtil*100, gpu.memoryTotal))\n",
        "printm() "
      ],
      "execution_count": 0,
      "outputs": []
    },
    {
      "cell_type": "code",
      "metadata": {
        "id": "SGDU6Jwc3I-U",
        "colab_type": "code",
        "colab": {}
      },
      "source": [
        "from google.colab import drive\n",
        "drive.mount('/content/drive')\n",
        "\n",
        "%cd drive/My\\ Drive/WPI/DL/\n"
      ],
      "execution_count": 0,
      "outputs": []
    },
    {
      "cell_type": "code",
      "metadata": {
        "id": "RRQOvARW3q-B",
        "colab_type": "code",
        "outputId": "baa6680a-08f3-4422-b2ff-0166cbff4248",
        "colab": {
          "base_uri": "https://localhost:8080/",
          "height": 85
        }
      },
      "source": [
        "# %ls\n",
        "\n",
        "img_height = 48\n",
        "img_width = 48\n",
        "batch_size = 64\n",
        "\n",
        "x_train = np.load('faces.npy')\n",
        "y_train_1 = np.load('ages.npy')\n",
        "\n",
        "\n",
        "y_train_1 = np.ceil(y_train_1)\n",
        "# y_train = y_train_1\n",
        "print(y_train_1.shape)\n",
        "y_train = np.zeros([y_train_1.shape[0],10])\n",
        "print(y_train.shape)\n",
        "\n",
        "for i in range(y_train_1.shape[0]):\n",
        "  # print(type(y_train_1[i]))\n",
        "  y_train[i][int((y_train_1[i]-1)/10)] = 1 \n",
        "  # print(y_train)\n",
        "\n",
        "# Split the data\n",
        "\n",
        "x_train, x_test, y_train, y_test = train_test_split(x_train, y_train, test_size=0.1, shuffle= True)\n",
        "\n",
        "\n",
        "print(x_train.shape)\n",
        "\n",
        "x_train = np.stack((x_train,x_train,x_train),3)\n",
        "x_test = np.stack((x_test,x_test,x_test),3)\n",
        "\n",
        "print(x_train.shape)\n",
        "\n",
        "x_train = x_train.astype('float32') / 255\n",
        "x_test = x_test.astype('float32') / 255\n",
        "\n"
      ],
      "execution_count": 0,
      "outputs": [
        {
          "output_type": "stream",
          "text": [
            "(7500,)\n",
            "(7500, 10)\n",
            "(6750, 48, 48)\n",
            "(6750, 48, 48, 3)\n"
          ],
          "name": "stdout"
        }
      ]
    },
    {
      "cell_type": "code",
      "metadata": {
        "id": "PwD2axM3ruMn",
        "colab_type": "code",
        "colab": {}
      },
      "source": [
        "def mean_squared_err(y_true, y_pred):\n",
        "  output = (K.argmax(y_pred, axis=1)*10)+5\n",
        "  y_actual = (K.argmax(y_true, axis=1)*10)+5\n",
        "  score = K.mean(K.square(output-y_actual))\n",
        "  return score"
      ],
      "execution_count": 0,
      "outputs": []
    },
    {
      "cell_type": "code",
      "metadata": {
        "id": "V5KSCdbU3V0f",
        "colab_type": "code",
        "colab": {}
      },
      "source": [
        "# create the base pre-trained model\n",
        "# base_model = VGG16(weights='imagenet', include_top=False)\n",
        "base_model = ResNet50(weights='imagenet', include_top=False)\n",
        "\n",
        "# add a global spatial average pooling layer\n",
        "x = base_model.output\n",
        "x = GlobalAveragePooling2D()(x)\n",
        "# let's add a fully-connected layer\n",
        "x = Dropout(0.5)(x)\n",
        "x = Dense(1024, activation='relu')(x)\n",
        "x = Dropout(0.5)(x)\n",
        "x = Dense(1024, activation='relu')(x)\n",
        "x = Dropout(0.5)(x)\n",
        "# and a logistic layer -- let's say we have 200 classes\n",
        "predictions = Dense(10, activation='softmax')(x)\n",
        "\n",
        "# this is the model we will train\n",
        "model = Model(inputs=base_model.input, outputs=predictions)\n",
        "\n",
        "# for layer in base_model.layers:\n",
        "#     layer.trainable = False\n"
      ],
      "execution_count": 0,
      "outputs": []
    },
    {
      "cell_type": "code",
      "metadata": {
        "id": "2ToDdtRO5npd",
        "colab_type": "code",
        "colab": {}
      },
      "source": [
        "model.compile(loss='categorical_crossentropy',\n",
        "             optimizer='adam',\n",
        "             metrics=[mean_squared_err])"
      ],
      "execution_count": 0,
      "outputs": []
    },
    {
      "cell_type": "code",
      "metadata": {
        "id": "SzsmBT1O53A9",
        "colab_type": "code",
        "colab": {}
      },
      "source": [
        "from keras.callbacks import ModelCheckpoint\n",
        "\n",
        "checkpointer = ModelCheckpoint(filepath='model.weights.best.hdf5', verbose = 1, save_best_only=True)\n",
        "\n",
        "\n",
        "\n",
        "model.fit(x_train,\n",
        "         y_train,\n",
        "         batch_size=64,\n",
        "         epochs=2000,\n",
        "         validation_split=0.1,\n",
        "         shuffle = True,\n",
        "          callbacks=[checkpointer])"
      ],
      "execution_count": 0,
      "outputs": []
    },
    {
      "cell_type": "code",
      "metadata": {
        "id": "_4X5rppC6C_R",
        "colab_type": "code",
        "colab": {}
      },
      "source": [
        "!kill -9 -1"
      ],
      "execution_count": 0,
      "outputs": []
    },
    {
      "cell_type": "code",
      "metadata": {
        "id": "k4yu7EAKm9_T",
        "colab_type": "code",
        "colab": {}
      },
      "source": [
        "model.fit(x_train,\n",
        "         y_train,\n",
        "         batch_size=64,\n",
        "         epochs=20,\n",
        "         validation_split=0.1,\n",
        "         shuffle = True)"
      ],
      "execution_count": 0,
      "outputs": []
    },
    {
      "cell_type": "code",
      "metadata": {
        "id": "zUcXVzCD8Kwn",
        "colab_type": "code",
        "outputId": "43c74aaf-413b-4855-a375-9874270ecab0",
        "colab": {
          "base_uri": "https://localhost:8080/",
          "height": 51
        }
      },
      "source": [
        "\n",
        "score = model.evaluate(x_test, y_test, verbose=0)\n",
        "\n",
        "print('\\n', 'Test accuracy:', score[1])\n"
      ],
      "execution_count": 0,
      "outputs": [
        {
          "output_type": "stream",
          "text": [
            "\n",
            " Test accuracy: 178.375\n"
          ],
          "name": "stdout"
        }
      ]
    }
  ],
  "metadata": {
    "colab": {
      "name": "Competition",
      "provenance": [],
      "collapsed_sections": []
    },
    "kernelspec": {
      "name": "python3",
      "display_name": "Python 3"
    },
    "accelerator": "GPU"
  },
  "nbformat": 4,
  "nbformat_minor": 0
}